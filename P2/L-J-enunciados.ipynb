{
 "cells": [
  {
   "cell_type": "markdown",
   "metadata": {},
   "source": [
    "## Información integrantes del equipo de trabajo\n",
    "**Nombre y apellidos (Grupo): Elodie Curcio**\n",
    "\n",
    "**Nombre y apellidos (Grupo): Guillermo Díaz**\n",
    "\n",
    "**Nombre y apellidos (Grupo): Miguel Quiroga**"
   ]
  },
  {
   "cell_type": "markdown",
   "metadata": {},
   "source": [
    "# Dinámica molecular\n",
    "\n",
    "\n",
    "Para estudiar la dinámica molecular de un fluido o un gas mediante simulaciones podemos resolver las ecuaciones en derivadas totales\n",
    "\n",
    "$$ m_i\\frac{d^2\\vec{r}_i(t)}{dt^2} = \\vec{F}_i(t)\\, ,$$\n",
    "\n",
    "donde $i$ hace referencia a la partícula $i$-ésima, $\\vec{r}_i(t)$ es el vector posición de la partícula en el instante $t$, $m_i$ la mása de la partícula, y $\\vec{F}_i(t)$ la fuerza total que siente la partícula a causa de todas las demás en el instante $t$. Definido un potencial de interacción podemos calcular la fuerza. En nuestro caso consideremos el potencial de Lennard-Jones:\n",
    "\n",
    "$$V(d) = 4\\epsilon\\left[\\left(\\frac{\\sigma}{d}\\right)^{12}-\\left(\\frac{\\sigma}{d}\\right)^6\\right]\\, ,$$\n",
    "\n",
    "donde $d$ es la distancia entre las partículas,$\\epsilon$ la magnitud del mínimo, y $\\sigma$ se relaciona con el tamaño efectivo de las partículas. A partir de este potencial, tenemos que\n",
    "\n",
    "$$\\vec{F}_i = -\\vec{\\nabla}V_i = \\sum_{j\\neq i} 4\\epsilon\\left[12\\frac{\\sigma^{12}}{d_{i,j}^{13}}-6\\frac{\\sigma^6}{d_{i,j}^7}\\right]\\hat{r}_{i\\rightarrow j}\\, ,$$\n",
    "\n",
    "siendo $\\hat{r}_{i\\rightarrow j}$ el vector unitario en la dirección $i\\rightarrow j$ que conecta las partículas."
   ]
  },
  {
   "cell_type": "markdown",
   "metadata": {
    "hide_input": true,
    "solution2": "shown",
    "solution2_first": true
   },
   "source": [
    "## Apartado a:\n",
    "\n",
    "- Considere una partícula que se mueve dentro de una caja de tamaño L=1 cuadrada en dos dimensiones. Considerar condiciones de contorno fijas (pared rígida). Para ello resolved numéricamente el sistema de ecuaciones diferenciales, por un método numérico. Representad la posición de la partícula a lo largo del tiempo en el plano $XY$. Considerar rebotes elásticos. **EXTRA** Probad a añadir gravedad al problema de una sola partícula."
   ]
  },
  {
   "cell_type": "code",
   "execution_count": 106,
   "metadata": {
    "hide_input": true,
    "solution2": "shown"
   },
   "outputs": [],
   "source": [
    "# Librerías\n",
    "\n",
    "from numpy import linspace, array, sqrt, sin, zeros, arange\n",
    "from math import exp, pi\n",
    "from pylab import plot, show, scatter, xlabel, ylabel, axis, vlines, hlines, xlim, ylim\n"
   ]
  },
  {
   "cell_type": "code",
   "execution_count": 140,
   "metadata": {},
   "outputs": [],
   "source": [
    "def f(r, time, gravity):\n",
    "    xPos = r[0]\n",
    "    yPos = r[1]\n",
    "    xVel = r[2]\n",
    "    yVel = r[3]\n",
    "    fun = zeros([4], float)\n",
    "    # fxPos = xVel\n",
    "    # fyPos = yVel\n",
    "    # fxVel, fyVel = force(gravity)/mass\n",
    "    fun[0] = xVel\n",
    "    fun[1] = yVel\n",
    "    fun[2:] = force(gravity)\n",
    "    return fun\n",
    "    # return array([fxPos, fyPos, fxVel, fyVel], float)\n",
    "\n",
    "def force(gravity = None):\n",
    "    finalForce = zeros([2], float)\n",
    "    if gravity != None:\n",
    "        finalForce += array([0,-gravity], float)\n",
    "    return finalForce\n",
    "\n",
    "def partEvolve(r, timeMax: float, timeStep: float, boxSize, gravity): # aka rungeKutta4\n",
    "    timeLin = arange(0,timeMax+timeStep, timeStep)\n",
    "    x = []\n",
    "    y = []\n",
    "    for time in timeLin:\n",
    "        x.append(r[0])\n",
    "        y.append(r[1])\n",
    "        print(f'time = {time}/{timeLin[-1]}, pos = {x[-1]}', end='\\r')\n",
    "        \n",
    "        k1 = timeStep * f(r, time, gravity)\n",
    "        k2 = timeStep * f(r + k1/2, time + timeStep/2, gravity)\n",
    "        k3 = timeStep * f(r + k2/2, time + timeStep/2, gravity)\n",
    "        k4 = timeStep * f(r + k3, time + timeStep, gravity)\n",
    "        r += (k1 + 2*k2 + 2*k3 + k4) / 6\n",
    "\n",
    "        # box check\n",
    "        if abs(r[0]) >= boxSize/2: # x fuera de la caja\n",
    "            r[2] *= -1\n",
    "        if abs(r[1]) >= boxSize/2: # y fuera de la caja\n",
    "            r[3] *= -1\n",
    "        \n",
    "    positions = zeros([2,timeLin.size], float)\n",
    "    positions[0,:] = array(x)\n",
    "    positions[1,:] = array(y)\n",
    "    return positions\n",
    "\n",
    "def plotBox(boxSize):\n",
    "    vlines(boxSize/2,-boxSize/2,boxSize/2,'k')\n",
    "    vlines(-boxSize/2,-boxSize/2,boxSize/2,'k')\n",
    "    hlines(boxSize/2,-boxSize/2,boxSize/2,'k')\n",
    "    hlines(-boxSize/2,-boxSize/2,boxSize/2,'k')\n",
    "    xlim([-boxSize/2, boxSize/2])\n",
    "    ylim([-boxSize/2, boxSize/2])\n",
    "    axis('equal')\n"
   ]
  },
  {
   "cell_type": "code",
   "execution_count": 141,
   "metadata": {},
   "outputs": [
    {
     "name": "stdout",
     "output_type": "stream",
     "text": [
      "time = 1.0/1.0, pos = 0.500000000000000304700000000000378635\r"
     ]
    },
    {
     "data": {
      "image/png": "[encoded data removed]",
      "text/plain": [
       "<Figure size 640x480 with 1 Axes>"
      ]
     },
     "metadata": {},
     "output_type": "display_data"
    }
   ],
   "source": [
    "boxSize = 1\n",
    "sigma = 0.5\n",
    "epsilon = 0.01\n",
    "mass = 1\n",
    "r = array([0,0,0.5,0.3], float)\n",
    "timeMax = 1\n",
    "timeStep = 0.001\n",
    "\n",
    "positions = partEvolve(r, timeMax, timeStep, boxSize, gravity = 0.2)\n",
    "\n",
    "plot(positions[0,:],positions[1,:])\n",
    "\n",
    "plotBox(boxSize)\n",
    "show()"
   ]
  },
  {
   "cell_type": "markdown",
   "metadata": {},
   "source": [
    "- Incluir una segunda partícula interactuante al problema. Representar la posición de las dos particulas en el plano $XY$, así como la evolución de cada coordenada en el tiempo.  Tomad $\\epsilon\\sim0.5$ y $\\sigma\\sim0.01$. **AYUDA** Empezad considerando particulas no interactuantes y luego añadir la interacción. Posicionar las dos partículas y darles velocidades iniciales tales que colisionen para comprobar que la interacción se lleva acabo correctamente."
   ]
  },
  {
   "cell_type": "code",
   "execution_count": null,
   "metadata": {},
   "outputs": [],
   "source": []
  },
  {
   "cell_type": "markdown",
   "metadata": {},
   "source": [
    "- Generalizar el programa para considerar $N$ partículas. **CONSEJOS**:\n",
    "    - Se recomienda tener una matriz que contenga toda la información de las partículas $[(x_i,y_i,v^{(x)}_i,v^{(y)}_i)]$.\n",
    "    - Empezad considerando pocas particulas e id aumentando el numero de ellas.\n",
    "    - En el cálculo de la fuerza de interacción, puede darse que dos partículas estén muy juntas, de forma que la aceleración que sienten es muy grande. Se recomienda usar un \"cut_off\", el cual puede consistir en la transformación $r_{ij}<tol\\rightarrow r_{ij}=tol$, donde es recomendable tomar $tol\\sim 0.01$ (puede ser necesario ajustar el valor de $tol$ según los valores exactos de $\\sigma$ y $\\epsilon$ tomados. Para ello se recomienda representar la fuerza en función de la distancia para los valores tomados).\n",
    "    - Para determinar las posiciones iniciales, es aconsejable crear una cuadrícula centrada en la caja y posicionar las partículas en los nodos de la misma. Para esto pueden ser útiles la función ``mesgrid`` y ``flatten`` de ``numpy``.\n",
    "    - Para las velocidades, se recomienda generar de forma aleatoria un ángulo que determine la dirección y el módulo del vector velocidad para cada partícula. Este último se recomienda generarlo con una distribución gaussiana, de média 0.5 y desviación 0.1.\n",
    "    - Cuantas más partículas consideremos, menor debe ser el $\\Delta t$ para evitar \"perdernos\" colisiones. Esto implica que necesitaremos hacer más iteraciones para representar el mismo periodo de tiempo. Se recomienda ir ajustando el numero de partículas, el $\\Delta t$ y el número de iteraciones poco a poco, empezando por valores razonables y nunca considerando cantidades demasiado grandes).\n",
    "    - Posiblemente, la simulación final (con mayor cantidad de partículas, por ejemplo, 100-200, y más larga) tarde un tiempo en ejecutarse. Una vez generados esos datos, se recomienda escribirlos en un fichero para facilitar el resto del trabajo."
   ]
  },
  {
   "cell_type": "code",
   "execution_count": null,
   "metadata": {},
   "outputs": [],
   "source": []
  },
  {
   "cell_type": "markdown",
   "metadata": {
    "solution2": "shown",
    "solution2_first": true
   },
   "source": [
    "## Apartado b:\n",
    "\n",
    "- Usando las posiciones y velocidades del último 10% de las iteraciones realizadas en la simulación, calculad la energía cinética, potencial y total del sistema a lo largo del tiempo y representarlas en un gráfico."
   ]
  },
  {
   "cell_type": "code",
   "execution_count": null,
   "metadata": {},
   "outputs": [],
   "source": []
  },
  {
   "cell_type": "markdown",
   "metadata": {},
   "source": [
    "- Haced un histograma del módulo de las velocidades a lo largo del último 10% de las iteraciones para todas las partículas y superponer la función de distribución teórica:\n",
    "\n",
    "$$p(v) = \\frac{v}{K_BT}e^{-v^2/2K_BT}\\, ,$$\n",
    "\n",
    "donde el valor de $K_BT$ se puede estimar a partir de la energía cinética média por partícula haciendo uso del Teorema de equipartición (recordad que el sistema es de dos dimensiones). **AYUDA** En caso de que los datos no ajusten muy bien a la curva, puede ser por que no se ha hecho una simulación suficientemente larga y por tanto no se a alcanzado el equilibrio térmico."
   ]
  },
  {
   "cell_type": "code",
   "execution_count": null,
   "metadata": {
    "scrolled": false
   },
   "outputs": [],
   "source": []
  },
  {
   "cell_type": "markdown",
   "metadata": {
    "hide_input": true,
    "solution2": "shown",
    "solution2_first": true
   },
   "source": [
    "## Apartado c:\n",
    "\n",
    "- Repetid la simulación considerando una velocidad media nula y una desviacion de 0.25. Repedid el apartado b para estos nuevos datos. ¿Qué conclusiones podéis sacar?"
   ]
  },
  {
   "cell_type": "code",
   "execution_count": null,
   "metadata": {},
   "outputs": [],
   "source": []
  }
 ],
 "metadata": {
  "hide_input": false,
  "kernelspec": {
   "display_name": "fisComp",
   "language": "python",
   "name": "python3"
  },
  "language_info": {
   "codemirror_mode": {
    "name": "ipython",
    "version": 3
   },
   "file_extension": ".py",
   "mimetype": "text/x-python",
   "name": "python",
   "nbconvert_exporter": "python",
   "pygments_lexer": "ipython3",
   "version": "3.10.4"
  },
  "latex_envs": {
   "LaTeX_envs_menu_present": true,
   "autoclose": false,
   "autocomplete": true,
   "bibliofile": "biblio.bib",
   "cite_by": "apalike",
   "current_citInitial": 1,
   "eqLabelWithNumbers": true,
   "eqNumInitial": 1,
   "hotkeys": {
    "equation": "Ctrl-E",
    "itemize": "Ctrl-I"
   },
   "labels_anchors": false,
   "latex_user_defs": false,
   "report_style_numbering": false,
   "user_envs_cfg": false
  },
  "toc": {
   "base_numbering": 1,
   "nav_menu": {},
   "number_sections": true,
   "sideBar": true,
   "skip_h1_title": false,
   "title_cell": "Índice",
   "title_sidebar": "Contenido",
   "toc_cell": true,
   "toc_position": {},
   "toc_section_display": true,
   "toc_window_display": true
  },
  "vscode": {
   "interpreter": {
    "hash": "d9c734b90a4a0ea1aef3daaf6599eea76ae1910f91d8d86778123dc0088c9897"
   }
  }
 },
 "nbformat": 4,
 "nbformat_minor": 4
}
