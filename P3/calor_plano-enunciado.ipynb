{
 "cells": [
  {
   "cell_type": "markdown",
   "metadata": {},
   "source": [
    "# Información integrantes del equipo de trabajo\n",
    "\n",
    "**Nombre y apellidos (Grupo):**\n",
    "\n",
    "**Nombre y apellidos (Grupo):**\n",
    "\n",
    "**Nombre y apellidos (Grupo):**"
   ]
  },
  {
   "cell_type": "markdown",
   "metadata": {},
   "source": [
    "# Ecuación del calor:\n",
    "\n",
    "\n",
    "La ecuación del calor general viene dada por la expresión:\n",
    "\n",
    "$$\\frac{\\partial u}{\\partial t} - \\alpha\\nabla^2 u=Q\\, ;$$ \n",
    "\n",
    "donde $u$ es un campo escalar de temperaturas, $\\alpha$ la constante de difusividad, y $Q$ representa las fuentes de calor, sumideros, o puntos de generación de energía (producido por reacciones químicas, resistividad eléctrica, etc).Para resolver el problema de forma numérica, podemos recurrir al método de diferencias finitas, considerando que el campo escalar \n",
    "\n",
    "$$ u(\\vec{x},t) = u^t_{i, j, k,\\dots}\\, $$\n",
    "\n",
    "Remarcar que los indices $i, j, k, \\dots$ hacen referencias a cada una de las componentes del vector $\\vec{x}$ una vez discretizado el espacio, por ejemplo, en 2 dimensiones: $\\vec{x}=(x,y)$, de forma que un punto del espacio (después de discretizar) puede identificarse como $\\vec{x}_{i,j}=(x_i,y_j)$. Para el caso bidimensional en coordenadas cartesianas, tenemos\n",
    "\n",
    "$$\\frac{u^{t+1}_{i,j}-u^{t}_{i,j}}{\\Delta t}-\\alpha\\left[\\frac{u^t_{i+1,j}-2u^t_{i,j}+u^t_{i-1,j}}{\\Delta x^2}+\\frac{u^t_{i,j+1}-2u^t_{i,j}+u^t_{i,j-1}}{\\Delta y^2}\\right]=Q^t_{i,j}$$"
   ]
  },
  {
   "cell_type": "markdown",
   "metadata": {},
   "source": [
    "## Condiciones de contorno fijas:\n",
    "\n",
    "\n",
    "- Resolved la ecuación del calor mediante un método iterativo, en el supuesto de un cuadrado de tamaño $L=1$, en ausencia de fuentes de calor, que en el instante inicial se encuentra a temperatura 0, y cuya frontera está a temperatura constanete $T$. Representar el campo de temperaturas para un conjunto de tiempos. Tomad $\\alpha=5$."
   ]
  },
  {
   "cell_type": "code",
   "execution_count": 7,
   "metadata": {
    "hide_input": true
   },
   "outputs": [],
   "source": [
    "#Librerias\n",
    "\n",
    "#Variables globales que no cambian en el documento\n"
   ]
  },
  {
   "cell_type": "markdown",
   "metadata": {},
   "source": [
    "## Fuente:\n",
    "\n",
    "- Tomar ahora una fuente de calor fija\n",
    "\n",
    "$$Q(x,y)=\\frac{1}{C}\\exp\\left[-\\left(\\frac{x-0.5}{0.05}\\right)^2\\right]\\exp\\left[-\\left(\\frac{y-0.5}{0.05}\\right)^2\\right]\\,$$\n",
    "\n",
    "siendo $C$ una constante tal que $\\max{Q(\\theta,\\phi)}=1\\times 10^5$, y los bordes están a temperatura nula."
   ]
  },
  {
   "cell_type": "code",
   "execution_count": null,
   "metadata": {},
   "outputs": [],
   "source": []
  },
  {
   "cell_type": "markdown",
   "metadata": {},
   "source": [
    "## Fuente en movimiento:\n",
    "\n",
    "- Considerar que la fuente describe una trayectoria circular entorno al centro del cuadrado. **NOTA** Los factores 0.5 en $Q(x,y)$ definen el centro de la fuente de calor."
   ]
  },
  {
   "cell_type": "code",
   "execution_count": null,
   "metadata": {
    "scrolled": true
   },
   "outputs": [],
   "source": []
  },
  {
   "cell_type": "markdown",
   "metadata": {},
   "source": [
    "## Condiciones de contorno periódicas:\n",
    "\n",
    "- Suponer ahora condiciones de contorno periódicas en ambas direcciones y resolver el problema cuando la fuente se mueve describiendo una hélice alrededor del toro.**NOTA** Gracias a la función módulo `%` es sencillo definir condiciones de contorno periódicas. Además, describir un movimiento helicoidal sobre un toro es equivalente a una trayectoria rectilinea en el plano con condiciones de contorno periódicas."
   ]
  },
  {
   "cell_type": "code",
   "execution_count": null,
   "metadata": {
    "scrolled": true
   },
   "outputs": [],
   "source": [
    "\n"
   ]
  }
 ],
 "metadata": {
  "hide_input": false,
  "kernelspec": {
   "display_name": "Python 3 (ipykernel)",
   "language": "python",
   "name": "python3"
  },
  "language_info": {
   "codemirror_mode": {
    "name": "ipython",
    "version": 3
   },
   "file_extension": ".py",
   "mimetype": "text/x-python",
   "name": "python",
   "nbconvert_exporter": "python",
   "pygments_lexer": "ipython3",
   "version": "3.10.7"
  },
  "latex_envs": {
   "LaTeX_envs_menu_present": true,
   "autoclose": false,
   "autocomplete": true,
   "bibliofile": "biblio.bib",
   "cite_by": "apalike",
   "current_citInitial": 1,
   "eqLabelWithNumbers": true,
   "eqNumInitial": 1,
   "hotkeys": {
    "equation": "Ctrl-E",
    "itemize": "Ctrl-I"
   },
   "labels_anchors": false,
   "latex_user_defs": false,
   "report_style_numbering": false,
   "user_envs_cfg": false
  },
  "toc": {
   "base_numbering": 1,
   "nav_menu": {},
   "number_sections": true,
   "sideBar": true,
   "skip_h1_title": false,
   "title_cell": "Table of Contents",
   "title_sidebar": "Contents",
   "toc_cell": false,
   "toc_position": {},
   "toc_section_display": true,
   "toc_window_display": false
  }
 },
 "nbformat": 4,
 "nbformat_minor": 4
}
