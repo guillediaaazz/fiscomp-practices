{
 "cells": [
  {
   "cell_type": "markdown",
   "metadata": {},
   "source": [
    "## Información integrantes del equipo de trabajo\n",
    "**Nombre y apellidos (Grupo): Elodie Curcio**\n",
    "\n",
    "**Nombre y apellidos (Grupo): Guillermo Díaz**\n",
    "\n",
    "**Nombre y apellidos (Grupo): Miguel Quiroga**"
   ]
  },
  {
   "cell_type": "markdown",
   "metadata": {},
   "source": [
    "# Dinámica molecular\n",
    "\n",
    "\n",
    "Para estudiar la dinámica molecular de un fluido o un gas mediante simulaciones podemos resolver las ecuaciones en derivadas totales\n",
    "\n",
    "$$ m_i\\frac{d^2\\vec{r}_i(t)}{dt^2} = \\vec{F}_i(t)\\, ,$$\n",
    "\n",
    "donde $i$ hace referencia a la partícula $i$-ésima, $\\vec{r}_i(t)$ es el vector posición de la partícula en el instante $t$, $m_i$ la mása de la partícula, y $\\vec{F}_i(t)$ la fuerza total que siente la partícula a causa de todas las demás en el instante $t$. Definido un potencial de interacción podemos calcular la fuerza. En nuestro caso consideremos el potencial de Lennard-Jones:\n",
    "\n",
    "$$V(d) = 4\\epsilon\\left[\\left(\\frac{\\sigma}{d}\\right)^{12}-\\left(\\frac{\\sigma}{d}\\right)^6\\right]\\, ,$$\n",
    "\n",
    "donde $d$ es la distancia entre las partículas,$\\epsilon$ la magnitud del mínimo, y $\\sigma$ se relaciona con el tamaño efectivo de las partículas. A partir de este potencial, tenemos que\n",
    "\n",
    "$$\\vec{F}_i = -\\vec{\\nabla}V_i = \\sum_{j\\neq i} 4\\epsilon\\left[12\\frac{\\sigma^{12}}{d_{i,j}^{13}}-6\\frac{\\sigma^6}{d_{i,j}^7}\\right]\\hat{r}_{i\\rightarrow j}\\, ,$$\n",
    "\n",
    "siendo $\\hat{r}_{i\\rightarrow j}$ el vector unitario en la dirección $i\\rightarrow j$ que conecta las partículas."
   ]
  },
  {
   "cell_type": "markdown",
   "metadata": {
    "hide_input": true,
    "solution2": "shown",
    "solution2_first": true
   },
   "source": [
    "## Apartado a:\n",
    "\n",
    "- Considere una partícula que se mueve dentro de una caja de tamaño L=1 cuadrada en dos dimensiones. Considerar condiciones de contorno fijas (pared rígida). Para ello resolved numéricamente el sistema de ecuaciones diferenciales, por un método numérico. Representad la posición de la partícula a lo largo del tiempo en el plano $XY$. Considerar rebotes elásticos. **EXTRA** Probad a añadir gravedad al problema de una sola partícula."
   ]
  },
  {
   "cell_type": "code",
   "execution_count": null,
   "metadata": {
    "hide_input": true,
    "solution2": "shown"
   },
   "outputs": [],
   "source": [
    "#Importar librerias\n",
    "\n",
    "#Definicion de Variables globales que no cambian en el documento\n",
    "\n",
    "#Definir funciones\n"
   ]
  },
  {
   "cell_type": "code",
   "execution_count": null,
   "metadata": {
    "hide_input": false,
    "solution2": "shown"
   },
   "outputs": [],
   "source": []
  },
  {
   "cell_type": "markdown",
   "metadata": {},
   "source": [
    "- Incluir una segunda partícula interactuante al problema. Representar la posición de las dos particulas en el plano $XY$, así como la evolución de cada coordenada en el tiempo.  Tomad $\\epsilon\\sim0.5$ y $\\sigma\\sim0.01$. **AYUDA** Empezad considerando particulas no interactuantes y luego añadir la interacción. Posicionar las dos partículas y darles velocidades iniciales tales que colisionen para comprobar que la interacción se lleva acabo correctamente."
   ]
  },
  {
   "cell_type": "code",
   "execution_count": null,
   "metadata": {},
   "outputs": [],
   "source": []
  },
  {
   "cell_type": "markdown",
   "metadata": {},
   "source": [
    "- Generalizar el programa para considerar $N$ partículas. **CONSEJOS**:\n",
    "    - Se recomienda tener una matriz que contenga toda la información de las partículas $[(x_i,y_i,v^{(x)}_i,v^{(y)}_i)]$.\n",
    "    - Empezad considerando pocas particulas e id aumentando el numero de ellas.\n",
    "    - En el cálculo de la fuerza de interacción, puede darse que dos partículas estén muy juntas, de forma que la aceleración que sienten es muy grande. Se recomienda usar un \"cut_off\", el cual puede consistir en la transformación $r_{ij}<tol\\rightarrow r_{ij}=tol$, donde es recomendable tomar $tol\\sim 0.01$ (puede ser necesario ajustar el valor de $tol$ según los valores exactos de $\\sigma$ y $\\epsilon$ tomados. Para ello se recomienda representar la fuerza en función de la distancia para los valores tomados).\n",
    "    - Para determinar las posiciones iniciales, es aconsejable crear una cuadrícula centrada en la caja y posicionar las partículas en los nodos de la misma. Para esto pueden ser útiles la función ``mesgrid`` y ``flatten`` de ``numpy``.\n",
    "    - Para las velocidades, se recomienda generar de forma aleatoria un ángulo que determine la dirección y el módulo del vector velocidad para cada partícula. Este último se recomienda generarlo con una distribución gaussiana, de média 0.5 y desviación 0.1.\n",
    "    - Cuantas más partículas consideremos, menor debe ser el $\\Delta t$ para evitar \"perdernos\" colisiones. Esto implica que necesitaremos hacer más iteraciones para representar el mismo periodo de tiempo. Se recomienda ir ajustando el numero de partículas, el $\\Delta t$ y el número de iteraciones poco a poco, empezando por valores razonables y nunca considerando cantidades demasiado grandes).\n",
    "    - Posiblemente, la simulación final (con mayor cantidad de partículas, por ejemplo, 100-200, y más larga) tarde un tiempo en ejecutarse. Una vez generados esos datos, se recomienda escribirlos en un fichero para facilitar el resto del trabajo."
   ]
  },
  {
   "cell_type": "code",
   "execution_count": null,
   "metadata": {},
   "outputs": [],
   "source": []
  },
  {
   "cell_type": "markdown",
   "metadata": {
    "solution2": "shown",
    "solution2_first": true
   },
   "source": [
    "## Apartado b:\n",
    "\n",
    "- Usando las posiciones y velocidades del último 10% de las iteraciones realizadas en la simulación, calculad la energía cinética, potencial y total del sistema a lo largo del tiempo y representarlas en un gráfico."
   ]
  },
  {
   "cell_type": "code",
   "execution_count": null,
   "metadata": {},
   "outputs": [],
   "source": []
  },
  {
   "cell_type": "markdown",
   "metadata": {},
   "source": [
    "- Haced un histograma del módulo de las velocidades a lo largo del último 10% de las iteraciones para todas las partículas y superponer la función de distribución teórica:\n",
    "\n",
    "$$p(v) = \\frac{v}{K_BT}e^{-v^2/2K_BT}\\, ,$$\n",
    "\n",
    "donde el valor de $K_BT$ se puede estimar a partir de la energía cinética média por partícula haciendo uso del Teorema de equipartición (recordad que el sistema es de dos dimensiones). **AYUDA** En caso de que los datos no ajusten muy bien a la curva, puede ser por que no se ha hecho una simulación suficientemente larga y por tanto no se a alcanzado el equilibrio térmico."
   ]
  },
  {
   "cell_type": "code",
   "execution_count": null,
   "metadata": {
    "scrolled": false
   },
   "outputs": [],
   "source": []
  },
  {
   "cell_type": "markdown",
   "metadata": {
    "hide_input": true,
    "solution2": "shown",
    "solution2_first": true
   },
   "source": [
    "## Apartado c:\n",
    "\n",
    "- Repetid la simulación considerando una velocidad media nula y una desviacion de 0.25. Repedid el apartado b para estos nuevos datos. ¿Qué conclusiones podéis sacar?"
   ]
  },
  {
   "cell_type": "code",
   "execution_count": null,
   "metadata": {},
   "outputs": [],
   "source": []
  }
 ],
 "metadata": {
  "hide_input": false,
  "kernelspec": {
   "display_name": "Python 3.10.6 64-bit",
   "language": "python",
   "name": "python3"
  },
  "language_info": {
   "codemirror_mode": {
    "name": "ipython",
    "version": 3
   },
   "file_extension": ".py",
   "mimetype": "text/x-python",
   "name": "python",
   "nbconvert_exporter": "python",
   "pygments_lexer": "ipython3",
   "version": "3.10.6"
  },
  "latex_envs": {
   "LaTeX_envs_menu_present": true,
   "autoclose": false,
   "autocomplete": true,
   "bibliofile": "biblio.bib",
   "cite_by": "apalike",
   "current_citInitial": 1,
   "eqLabelWithNumbers": true,
   "eqNumInitial": 1,
   "hotkeys": {
    "equation": "Ctrl-E",
    "itemize": "Ctrl-I"
   },
   "labels_anchors": false,
   "latex_user_defs": false,
   "report_style_numbering": false,
   "user_envs_cfg": false
  },
  "toc": {
   "base_numbering": 1,
   "nav_menu": {},
   "number_sections": true,
   "sideBar": true,
   "skip_h1_title": false,
   "title_cell": "Índice",
   "title_sidebar": "Contenido",
   "toc_cell": true,
   "toc_position": {},
   "toc_section_display": true,
   "toc_window_display": true
  },
  "vscode": {
   "interpreter": {
    "hash": "08f2a05ac046e84805368809866a6b709c3cc9ec790929dec02dbab1889d195a"
   }
  }
 },
 "nbformat": 4,
 "nbformat_minor": 4
}
